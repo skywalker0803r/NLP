{
  "nbformat": 4,
  "nbformat_minor": 0,
  "metadata": {
    "colab": {
      "name": "bert-base-chinese-ner.ipynb",
      "provenance": [],
      "authorship_tag": "ABX9TyP7cRY3rMvqiZFFf2XtXL63",
      "include_colab_link": true
    },
    "kernelspec": {
      "name": "python3",
      "display_name": "Python 3"
    },
    "language_info": {
      "name": "python"
    },
    "widgets": {
      "application/vnd.jupyter.widget-state+json": {
        "194f65eb5fec40ac974fcb75627ea00d": {
          "model_module": "@jupyter-widgets/controls",
          "model_name": "HBoxModel",
          "state": {
            "_view_name": "HBoxView",
            "_dom_classes": [],
            "_model_name": "HBoxModel",
            "_view_module": "@jupyter-widgets/controls",
            "_model_module_version": "1.5.0",
            "_view_count": null,
            "_view_module_version": "1.5.0",
            "box_style": "",
            "layout": "IPY_MODEL_666abdc17d4c4786b939736e95d9512c",
            "_model_module": "@jupyter-widgets/controls",
            "children": [
              "IPY_MODEL_d33384ec48fc44ef87cf9580b49c9345",
              "IPY_MODEL_433cd8dd3f2a4891b1896e5ffda5b42d"
            ]
          }
        },
        "666abdc17d4c4786b939736e95d9512c": {
          "model_module": "@jupyter-widgets/base",
          "model_name": "LayoutModel",
          "state": {
            "_view_name": "LayoutView",
            "grid_template_rows": null,
            "right": null,
            "justify_content": null,
            "_view_module": "@jupyter-widgets/base",
            "overflow": null,
            "_model_module_version": "1.2.0",
            "_view_count": null,
            "flex_flow": null,
            "width": null,
            "min_width": null,
            "border": null,
            "align_items": null,
            "bottom": null,
            "_model_module": "@jupyter-widgets/base",
            "top": null,
            "grid_column": null,
            "overflow_y": null,
            "overflow_x": null,
            "grid_auto_flow": null,
            "grid_area": null,
            "grid_template_columns": null,
            "flex": null,
            "_model_name": "LayoutModel",
            "justify_items": null,
            "grid_row": null,
            "max_height": null,
            "align_content": null,
            "visibility": null,
            "align_self": null,
            "height": null,
            "min_height": null,
            "padding": null,
            "grid_auto_rows": null,
            "grid_gap": null,
            "max_width": null,
            "order": null,
            "_view_module_version": "1.2.0",
            "grid_template_areas": null,
            "object_position": null,
            "object_fit": null,
            "grid_auto_columns": null,
            "margin": null,
            "display": null,
            "left": null
          }
        },
        "d33384ec48fc44ef87cf9580b49c9345": {
          "model_module": "@jupyter-widgets/controls",
          "model_name": "FloatProgressModel",
          "state": {
            "_view_name": "ProgressView",
            "style": "IPY_MODEL_e5208c4952224d4ab513e72ab62eb7b5",
            "_dom_classes": [],
            "description": "Downloading: 100%",
            "_model_name": "FloatProgressModel",
            "bar_style": "success",
            "max": 624,
            "_view_module": "@jupyter-widgets/controls",
            "_model_module_version": "1.5.0",
            "value": 624,
            "_view_count": null,
            "_view_module_version": "1.5.0",
            "orientation": "horizontal",
            "min": 0,
            "description_tooltip": null,
            "_model_module": "@jupyter-widgets/controls",
            "layout": "IPY_MODEL_035bb718831a460ca520100fc5bef82a"
          }
        },
        "433cd8dd3f2a4891b1896e5ffda5b42d": {
          "model_module": "@jupyter-widgets/controls",
          "model_name": "HTMLModel",
          "state": {
            "_view_name": "HTMLView",
            "style": "IPY_MODEL_084c2101b1c043af82fc7f03fe490955",
            "_dom_classes": [],
            "description": "",
            "_model_name": "HTMLModel",
            "placeholder": "​",
            "_view_module": "@jupyter-widgets/controls",
            "_model_module_version": "1.5.0",
            "value": " 624/624 [00:00&lt;00:00, 17.0kB/s]",
            "_view_count": null,
            "_view_module_version": "1.5.0",
            "description_tooltip": null,
            "_model_module": "@jupyter-widgets/controls",
            "layout": "IPY_MODEL_1dce46b83a24467fab35e99d883ad2ac"
          }
        },
        "e5208c4952224d4ab513e72ab62eb7b5": {
          "model_module": "@jupyter-widgets/controls",
          "model_name": "ProgressStyleModel",
          "state": {
            "_view_name": "StyleView",
            "_model_name": "ProgressStyleModel",
            "description_width": "initial",
            "_view_module": "@jupyter-widgets/base",
            "_model_module_version": "1.5.0",
            "_view_count": null,
            "_view_module_version": "1.2.0",
            "bar_color": null,
            "_model_module": "@jupyter-widgets/controls"
          }
        },
        "035bb718831a460ca520100fc5bef82a": {
          "model_module": "@jupyter-widgets/base",
          "model_name": "LayoutModel",
          "state": {
            "_view_name": "LayoutView",
            "grid_template_rows": null,
            "right": null,
            "justify_content": null,
            "_view_module": "@jupyter-widgets/base",
            "overflow": null,
            "_model_module_version": "1.2.0",
            "_view_count": null,
            "flex_flow": null,
            "width": null,
            "min_width": null,
            "border": null,
            "align_items": null,
            "bottom": null,
            "_model_module": "@jupyter-widgets/base",
            "top": null,
            "grid_column": null,
            "overflow_y": null,
            "overflow_x": null,
            "grid_auto_flow": null,
            "grid_area": null,
            "grid_template_columns": null,
            "flex": null,
            "_model_name": "LayoutModel",
            "justify_items": null,
            "grid_row": null,
            "max_height": null,
            "align_content": null,
            "visibility": null,
            "align_self": null,
            "height": null,
            "min_height": null,
            "padding": null,
            "grid_auto_rows": null,
            "grid_gap": null,
            "max_width": null,
            "order": null,
            "_view_module_version": "1.2.0",
            "grid_template_areas": null,
            "object_position": null,
            "object_fit": null,
            "grid_auto_columns": null,
            "margin": null,
            "display": null,
            "left": null
          }
        },
        "084c2101b1c043af82fc7f03fe490955": {
          "model_module": "@jupyter-widgets/controls",
          "model_name": "DescriptionStyleModel",
          "state": {
            "_view_name": "StyleView",
            "_model_name": "DescriptionStyleModel",
            "description_width": "",
            "_view_module": "@jupyter-widgets/base",
            "_model_module_version": "1.5.0",
            "_view_count": null,
            "_view_module_version": "1.2.0",
            "_model_module": "@jupyter-widgets/controls"
          }
        },
        "1dce46b83a24467fab35e99d883ad2ac": {
          "model_module": "@jupyter-widgets/base",
          "model_name": "LayoutModel",
          "state": {
            "_view_name": "LayoutView",
            "grid_template_rows": null,
            "right": null,
            "justify_content": null,
            "_view_module": "@jupyter-widgets/base",
            "overflow": null,
            "_model_module_version": "1.2.0",
            "_view_count": null,
            "flex_flow": null,
            "width": null,
            "min_width": null,
            "border": null,
            "align_items": null,
            "bottom": null,
            "_model_module": "@jupyter-widgets/base",
            "top": null,
            "grid_column": null,
            "overflow_y": null,
            "overflow_x": null,
            "grid_auto_flow": null,
            "grid_area": null,
            "grid_template_columns": null,
            "flex": null,
            "_model_name": "LayoutModel",
            "justify_items": null,
            "grid_row": null,
            "max_height": null,
            "align_content": null,
            "visibility": null,
            "align_self": null,
            "height": null,
            "min_height": null,
            "padding": null,
            "grid_auto_rows": null,
            "grid_gap": null,
            "max_width": null,
            "order": null,
            "_view_module_version": "1.2.0",
            "grid_template_areas": null,
            "object_position": null,
            "object_fit": null,
            "grid_auto_columns": null,
            "margin": null,
            "display": null,
            "left": null
          }
        },
        "0a61160b2bbd4577a4b4d6afd4bd139c": {
          "model_module": "@jupyter-widgets/controls",
          "model_name": "HBoxModel",
          "state": {
            "_view_name": "HBoxView",
            "_dom_classes": [],
            "_model_name": "HBoxModel",
            "_view_module": "@jupyter-widgets/controls",
            "_model_module_version": "1.5.0",
            "_view_count": null,
            "_view_module_version": "1.5.0",
            "box_style": "",
            "layout": "IPY_MODEL_cb82d147505a42c1871fd7343a1dbee6",
            "_model_module": "@jupyter-widgets/controls",
            "children": [
              "IPY_MODEL_f7c25fbf4b044cdea7a072bce134d1e3",
              "IPY_MODEL_a33285fe66874f88b3dd3d5de718a76f"
            ]
          }
        },
        "cb82d147505a42c1871fd7343a1dbee6": {
          "model_module": "@jupyter-widgets/base",
          "model_name": "LayoutModel",
          "state": {
            "_view_name": "LayoutView",
            "grid_template_rows": null,
            "right": null,
            "justify_content": null,
            "_view_module": "@jupyter-widgets/base",
            "overflow": null,
            "_model_module_version": "1.2.0",
            "_view_count": null,
            "flex_flow": null,
            "width": null,
            "min_width": null,
            "border": null,
            "align_items": null,
            "bottom": null,
            "_model_module": "@jupyter-widgets/base",
            "top": null,
            "grid_column": null,
            "overflow_y": null,
            "overflow_x": null,
            "grid_auto_flow": null,
            "grid_area": null,
            "grid_template_columns": null,
            "flex": null,
            "_model_name": "LayoutModel",
            "justify_items": null,
            "grid_row": null,
            "max_height": null,
            "align_content": null,
            "visibility": null,
            "align_self": null,
            "height": null,
            "min_height": null,
            "padding": null,
            "grid_auto_rows": null,
            "grid_gap": null,
            "max_width": null,
            "order": null,
            "_view_module_version": "1.2.0",
            "grid_template_areas": null,
            "object_position": null,
            "object_fit": null,
            "grid_auto_columns": null,
            "margin": null,
            "display": null,
            "left": null
          }
        },
        "f7c25fbf4b044cdea7a072bce134d1e3": {
          "model_module": "@jupyter-widgets/controls",
          "model_name": "FloatProgressModel",
          "state": {
            "_view_name": "ProgressView",
            "style": "IPY_MODEL_22959d2a3dfa49b0b22def1545d54ffe",
            "_dom_classes": [],
            "description": "Downloading: 100%",
            "_model_name": "FloatProgressModel",
            "bar_style": "success",
            "max": 109540,
            "_view_module": "@jupyter-widgets/controls",
            "_model_module_version": "1.5.0",
            "value": 109540,
            "_view_count": null,
            "_view_module_version": "1.5.0",
            "orientation": "horizontal",
            "min": 0,
            "description_tooltip": null,
            "_model_module": "@jupyter-widgets/controls",
            "layout": "IPY_MODEL_f100e744647b4b10879a5258d8c9580f"
          }
        },
        "a33285fe66874f88b3dd3d5de718a76f": {
          "model_module": "@jupyter-widgets/controls",
          "model_name": "HTMLModel",
          "state": {
            "_view_name": "HTMLView",
            "style": "IPY_MODEL_f89ee368ffa2468985a3f5485ac0a2cc",
            "_dom_classes": [],
            "description": "",
            "_model_name": "HTMLModel",
            "placeholder": "​",
            "_view_module": "@jupyter-widgets/controls",
            "_model_module_version": "1.5.0",
            "value": " 110k/110k [00:16&lt;00:00, 6.52kB/s]",
            "_view_count": null,
            "_view_module_version": "1.5.0",
            "description_tooltip": null,
            "_model_module": "@jupyter-widgets/controls",
            "layout": "IPY_MODEL_773dd742d43448398f8133aeee9dc68e"
          }
        },
        "22959d2a3dfa49b0b22def1545d54ffe": {
          "model_module": "@jupyter-widgets/controls",
          "model_name": "ProgressStyleModel",
          "state": {
            "_view_name": "StyleView",
            "_model_name": "ProgressStyleModel",
            "description_width": "initial",
            "_view_module": "@jupyter-widgets/base",
            "_model_module_version": "1.5.0",
            "_view_count": null,
            "_view_module_version": "1.2.0",
            "bar_color": null,
            "_model_module": "@jupyter-widgets/controls"
          }
        },
        "f100e744647b4b10879a5258d8c9580f": {
          "model_module": "@jupyter-widgets/base",
          "model_name": "LayoutModel",
          "state": {
            "_view_name": "LayoutView",
            "grid_template_rows": null,
            "right": null,
            "justify_content": null,
            "_view_module": "@jupyter-widgets/base",
            "overflow": null,
            "_model_module_version": "1.2.0",
            "_view_count": null,
            "flex_flow": null,
            "width": null,
            "min_width": null,
            "border": null,
            "align_items": null,
            "bottom": null,
            "_model_module": "@jupyter-widgets/base",
            "top": null,
            "grid_column": null,
            "overflow_y": null,
            "overflow_x": null,
            "grid_auto_flow": null,
            "grid_area": null,
            "grid_template_columns": null,
            "flex": null,
            "_model_name": "LayoutModel",
            "justify_items": null,
            "grid_row": null,
            "max_height": null,
            "align_content": null,
            "visibility": null,
            "align_self": null,
            "height": null,
            "min_height": null,
            "padding": null,
            "grid_auto_rows": null,
            "grid_gap": null,
            "max_width": null,
            "order": null,
            "_view_module_version": "1.2.0",
            "grid_template_areas": null,
            "object_position": null,
            "object_fit": null,
            "grid_auto_columns": null,
            "margin": null,
            "display": null,
            "left": null
          }
        },
        "f89ee368ffa2468985a3f5485ac0a2cc": {
          "model_module": "@jupyter-widgets/controls",
          "model_name": "DescriptionStyleModel",
          "state": {
            "_view_name": "StyleView",
            "_model_name": "DescriptionStyleModel",
            "description_width": "",
            "_view_module": "@jupyter-widgets/base",
            "_model_module_version": "1.5.0",
            "_view_count": null,
            "_view_module_version": "1.2.0",
            "_model_module": "@jupyter-widgets/controls"
          }
        },
        "773dd742d43448398f8133aeee9dc68e": {
          "model_module": "@jupyter-widgets/base",
          "model_name": "LayoutModel",
          "state": {
            "_view_name": "LayoutView",
            "grid_template_rows": null,
            "right": null,
            "justify_content": null,
            "_view_module": "@jupyter-widgets/base",
            "overflow": null,
            "_model_module_version": "1.2.0",
            "_view_count": null,
            "flex_flow": null,
            "width": null,
            "min_width": null,
            "border": null,
            "align_items": null,
            "bottom": null,
            "_model_module": "@jupyter-widgets/base",
            "top": null,
            "grid_column": null,
            "overflow_y": null,
            "overflow_x": null,
            "grid_auto_flow": null,
            "grid_area": null,
            "grid_template_columns": null,
            "flex": null,
            "_model_name": "LayoutModel",
            "justify_items": null,
            "grid_row": null,
            "max_height": null,
            "align_content": null,
            "visibility": null,
            "align_self": null,
            "height": null,
            "min_height": null,
            "padding": null,
            "grid_auto_rows": null,
            "grid_gap": null,
            "max_width": null,
            "order": null,
            "_view_module_version": "1.2.0",
            "grid_template_areas": null,
            "object_position": null,
            "object_fit": null,
            "grid_auto_columns": null,
            "margin": null,
            "display": null,
            "left": null
          }
        },
        "453e777e4b8f467996d77438155eb58b": {
          "model_module": "@jupyter-widgets/controls",
          "model_name": "HBoxModel",
          "state": {
            "_view_name": "HBoxView",
            "_dom_classes": [],
            "_model_name": "HBoxModel",
            "_view_module": "@jupyter-widgets/controls",
            "_model_module_version": "1.5.0",
            "_view_count": null,
            "_view_module_version": "1.5.0",
            "box_style": "",
            "layout": "IPY_MODEL_5c6245f545ef4b75b6655437c7c056bf",
            "_model_module": "@jupyter-widgets/controls",
            "children": [
              "IPY_MODEL_e5cc206489764ed7ac343234995084ed",
              "IPY_MODEL_b8ad5a7ea7d147a4b4fbfc830030f1c7"
            ]
          }
        },
        "5c6245f545ef4b75b6655437c7c056bf": {
          "model_module": "@jupyter-widgets/base",
          "model_name": "LayoutModel",
          "state": {
            "_view_name": "LayoutView",
            "grid_template_rows": null,
            "right": null,
            "justify_content": null,
            "_view_module": "@jupyter-widgets/base",
            "overflow": null,
            "_model_module_version": "1.2.0",
            "_view_count": null,
            "flex_flow": null,
            "width": null,
            "min_width": null,
            "border": null,
            "align_items": null,
            "bottom": null,
            "_model_module": "@jupyter-widgets/base",
            "top": null,
            "grid_column": null,
            "overflow_y": null,
            "overflow_x": null,
            "grid_auto_flow": null,
            "grid_area": null,
            "grid_template_columns": null,
            "flex": null,
            "_model_name": "LayoutModel",
            "justify_items": null,
            "grid_row": null,
            "max_height": null,
            "align_content": null,
            "visibility": null,
            "align_self": null,
            "height": null,
            "min_height": null,
            "padding": null,
            "grid_auto_rows": null,
            "grid_gap": null,
            "max_width": null,
            "order": null,
            "_view_module_version": "1.2.0",
            "grid_template_areas": null,
            "object_position": null,
            "object_fit": null,
            "grid_auto_columns": null,
            "margin": null,
            "display": null,
            "left": null
          }
        },
        "e5cc206489764ed7ac343234995084ed": {
          "model_module": "@jupyter-widgets/controls",
          "model_name": "FloatProgressModel",
          "state": {
            "_view_name": "ProgressView",
            "style": "IPY_MODEL_55b676c7de6e4b1497b0312abed7382d",
            "_dom_classes": [],
            "description": "Downloading: 100%",
            "_model_name": "FloatProgressModel",
            "bar_style": "success",
            "max": 268943,
            "_view_module": "@jupyter-widgets/controls",
            "_model_module_version": "1.5.0",
            "value": 268943,
            "_view_count": null,
            "_view_module_version": "1.5.0",
            "orientation": "horizontal",
            "min": 0,
            "description_tooltip": null,
            "_model_module": "@jupyter-widgets/controls",
            "layout": "IPY_MODEL_c9f2cd6b24fb46e6af80b8642a3e89be"
          }
        },
        "b8ad5a7ea7d147a4b4fbfc830030f1c7": {
          "model_module": "@jupyter-widgets/controls",
          "model_name": "HTMLModel",
          "state": {
            "_view_name": "HTMLView",
            "style": "IPY_MODEL_1b597105363d41d58fc1cc855ab74bd0",
            "_dom_classes": [],
            "description": "",
            "_model_name": "HTMLModel",
            "placeholder": "​",
            "_view_module": "@jupyter-widgets/controls",
            "_model_module_version": "1.5.0",
            "value": " 269k/269k [00:00&lt;00:00, 799kB/s]",
            "_view_count": null,
            "_view_module_version": "1.5.0",
            "description_tooltip": null,
            "_model_module": "@jupyter-widgets/controls",
            "layout": "IPY_MODEL_66d3e8397a264a1da7323ccde38516ac"
          }
        },
        "55b676c7de6e4b1497b0312abed7382d": {
          "model_module": "@jupyter-widgets/controls",
          "model_name": "ProgressStyleModel",
          "state": {
            "_view_name": "StyleView",
            "_model_name": "ProgressStyleModel",
            "description_width": "initial",
            "_view_module": "@jupyter-widgets/base",
            "_model_module_version": "1.5.0",
            "_view_count": null,
            "_view_module_version": "1.2.0",
            "bar_color": null,
            "_model_module": "@jupyter-widgets/controls"
          }
        },
        "c9f2cd6b24fb46e6af80b8642a3e89be": {
          "model_module": "@jupyter-widgets/base",
          "model_name": "LayoutModel",
          "state": {
            "_view_name": "LayoutView",
            "grid_template_rows": null,
            "right": null,
            "justify_content": null,
            "_view_module": "@jupyter-widgets/base",
            "overflow": null,
            "_model_module_version": "1.2.0",
            "_view_count": null,
            "flex_flow": null,
            "width": null,
            "min_width": null,
            "border": null,
            "align_items": null,
            "bottom": null,
            "_model_module": "@jupyter-widgets/base",
            "top": null,
            "grid_column": null,
            "overflow_y": null,
            "overflow_x": null,
            "grid_auto_flow": null,
            "grid_area": null,
            "grid_template_columns": null,
            "flex": null,
            "_model_name": "LayoutModel",
            "justify_items": null,
            "grid_row": null,
            "max_height": null,
            "align_content": null,
            "visibility": null,
            "align_self": null,
            "height": null,
            "min_height": null,
            "padding": null,
            "grid_auto_rows": null,
            "grid_gap": null,
            "max_width": null,
            "order": null,
            "_view_module_version": "1.2.0",
            "grid_template_areas": null,
            "object_position": null,
            "object_fit": null,
            "grid_auto_columns": null,
            "margin": null,
            "display": null,
            "left": null
          }
        },
        "1b597105363d41d58fc1cc855ab74bd0": {
          "model_module": "@jupyter-widgets/controls",
          "model_name": "DescriptionStyleModel",
          "state": {
            "_view_name": "StyleView",
            "_model_name": "DescriptionStyleModel",
            "description_width": "",
            "_view_module": "@jupyter-widgets/base",
            "_model_module_version": "1.5.0",
            "_view_count": null,
            "_view_module_version": "1.2.0",
            "_model_module": "@jupyter-widgets/controls"
          }
        },
        "66d3e8397a264a1da7323ccde38516ac": {
          "model_module": "@jupyter-widgets/base",
          "model_name": "LayoutModel",
          "state": {
            "_view_name": "LayoutView",
            "grid_template_rows": null,
            "right": null,
            "justify_content": null,
            "_view_module": "@jupyter-widgets/base",
            "overflow": null,
            "_model_module_version": "1.2.0",
            "_view_count": null,
            "flex_flow": null,
            "width": null,
            "min_width": null,
            "border": null,
            "align_items": null,
            "bottom": null,
            "_model_module": "@jupyter-widgets/base",
            "top": null,
            "grid_column": null,
            "overflow_y": null,
            "overflow_x": null,
            "grid_auto_flow": null,
            "grid_area": null,
            "grid_template_columns": null,
            "flex": null,
            "_model_name": "LayoutModel",
            "justify_items": null,
            "grid_row": null,
            "max_height": null,
            "align_content": null,
            "visibility": null,
            "align_self": null,
            "height": null,
            "min_height": null,
            "padding": null,
            "grid_auto_rows": null,
            "grid_gap": null,
            "max_width": null,
            "order": null,
            "_view_module_version": "1.2.0",
            "grid_template_areas": null,
            "object_position": null,
            "object_fit": null,
            "grid_auto_columns": null,
            "margin": null,
            "display": null,
            "left": null
          }
        },
        "09d9208bc2e343cb92a14d6df575e9fd": {
          "model_module": "@jupyter-widgets/controls",
          "model_name": "HBoxModel",
          "state": {
            "_view_name": "HBoxView",
            "_dom_classes": [],
            "_model_name": "HBoxModel",
            "_view_module": "@jupyter-widgets/controls",
            "_model_module_version": "1.5.0",
            "_view_count": null,
            "_view_module_version": "1.5.0",
            "box_style": "",
            "layout": "IPY_MODEL_d79a00d516eb48a3ac038d37bedca995",
            "_model_module": "@jupyter-widgets/controls",
            "children": [
              "IPY_MODEL_4867e0184b954a17b85b4a7d5d55a966",
              "IPY_MODEL_505ce07a64b94964bd390e5fcc95c93e"
            ]
          }
        },
        "d79a00d516eb48a3ac038d37bedca995": {
          "model_module": "@jupyter-widgets/base",
          "model_name": "LayoutModel",
          "state": {
            "_view_name": "LayoutView",
            "grid_template_rows": null,
            "right": null,
            "justify_content": null,
            "_view_module": "@jupyter-widgets/base",
            "overflow": null,
            "_model_module_version": "1.2.0",
            "_view_count": null,
            "flex_flow": null,
            "width": null,
            "min_width": null,
            "border": null,
            "align_items": null,
            "bottom": null,
            "_model_module": "@jupyter-widgets/base",
            "top": null,
            "grid_column": null,
            "overflow_y": null,
            "overflow_x": null,
            "grid_auto_flow": null,
            "grid_area": null,
            "grid_template_columns": null,
            "flex": null,
            "_model_name": "LayoutModel",
            "justify_items": null,
            "grid_row": null,
            "max_height": null,
            "align_content": null,
            "visibility": null,
            "align_self": null,
            "height": null,
            "min_height": null,
            "padding": null,
            "grid_auto_rows": null,
            "grid_gap": null,
            "max_width": null,
            "order": null,
            "_view_module_version": "1.2.0",
            "grid_template_areas": null,
            "object_position": null,
            "object_fit": null,
            "grid_auto_columns": null,
            "margin": null,
            "display": null,
            "left": null
          }
        },
        "4867e0184b954a17b85b4a7d5d55a966": {
          "model_module": "@jupyter-widgets/controls",
          "model_name": "FloatProgressModel",
          "state": {
            "_view_name": "ProgressView",
            "style": "IPY_MODEL_0c30579c073944aeb7f9260164e3f793",
            "_dom_classes": [],
            "description": "Downloading: 100%",
            "_model_name": "FloatProgressModel",
            "bar_style": "success",
            "max": 29,
            "_view_module": "@jupyter-widgets/controls",
            "_model_module_version": "1.5.0",
            "value": 29,
            "_view_count": null,
            "_view_module_version": "1.5.0",
            "orientation": "horizontal",
            "min": 0,
            "description_tooltip": null,
            "_model_module": "@jupyter-widgets/controls",
            "layout": "IPY_MODEL_6325e25b5ec245b7b74b9dc26f18335b"
          }
        },
        "505ce07a64b94964bd390e5fcc95c93e": {
          "model_module": "@jupyter-widgets/controls",
          "model_name": "HTMLModel",
          "state": {
            "_view_name": "HTMLView",
            "style": "IPY_MODEL_9fc0a1f4d7d34f72ba3a00e1287456e3",
            "_dom_classes": [],
            "description": "",
            "_model_name": "HTMLModel",
            "placeholder": "​",
            "_view_module": "@jupyter-widgets/controls",
            "_model_module_version": "1.5.0",
            "value": " 29.0/29.0 [00:00&lt;00:00, 187B/s]",
            "_view_count": null,
            "_view_module_version": "1.5.0",
            "description_tooltip": null,
            "_model_module": "@jupyter-widgets/controls",
            "layout": "IPY_MODEL_3b38cfd42a0b4d6583a0bb7470feba49"
          }
        },
        "0c30579c073944aeb7f9260164e3f793": {
          "model_module": "@jupyter-widgets/controls",
          "model_name": "ProgressStyleModel",
          "state": {
            "_view_name": "StyleView",
            "_model_name": "ProgressStyleModel",
            "description_width": "initial",
            "_view_module": "@jupyter-widgets/base",
            "_model_module_version": "1.5.0",
            "_view_count": null,
            "_view_module_version": "1.2.0",
            "bar_color": null,
            "_model_module": "@jupyter-widgets/controls"
          }
        },
        "6325e25b5ec245b7b74b9dc26f18335b": {
          "model_module": "@jupyter-widgets/base",
          "model_name": "LayoutModel",
          "state": {
            "_view_name": "LayoutView",
            "grid_template_rows": null,
            "right": null,
            "justify_content": null,
            "_view_module": "@jupyter-widgets/base",
            "overflow": null,
            "_model_module_version": "1.2.0",
            "_view_count": null,
            "flex_flow": null,
            "width": null,
            "min_width": null,
            "border": null,
            "align_items": null,
            "bottom": null,
            "_model_module": "@jupyter-widgets/base",
            "top": null,
            "grid_column": null,
            "overflow_y": null,
            "overflow_x": null,
            "grid_auto_flow": null,
            "grid_area": null,
            "grid_template_columns": null,
            "flex": null,
            "_model_name": "LayoutModel",
            "justify_items": null,
            "grid_row": null,
            "max_height": null,
            "align_content": null,
            "visibility": null,
            "align_self": null,
            "height": null,
            "min_height": null,
            "padding": null,
            "grid_auto_rows": null,
            "grid_gap": null,
            "max_width": null,
            "order": null,
            "_view_module_version": "1.2.0",
            "grid_template_areas": null,
            "object_position": null,
            "object_fit": null,
            "grid_auto_columns": null,
            "margin": null,
            "display": null,
            "left": null
          }
        },
        "9fc0a1f4d7d34f72ba3a00e1287456e3": {
          "model_module": "@jupyter-widgets/controls",
          "model_name": "DescriptionStyleModel",
          "state": {
            "_view_name": "StyleView",
            "_model_name": "DescriptionStyleModel",
            "description_width": "",
            "_view_module": "@jupyter-widgets/base",
            "_model_module_version": "1.5.0",
            "_view_count": null,
            "_view_module_version": "1.2.0",
            "_model_module": "@jupyter-widgets/controls"
          }
        },
        "3b38cfd42a0b4d6583a0bb7470feba49": {
          "model_module": "@jupyter-widgets/base",
          "model_name": "LayoutModel",
          "state": {
            "_view_name": "LayoutView",
            "grid_template_rows": null,
            "right": null,
            "justify_content": null,
            "_view_module": "@jupyter-widgets/base",
            "overflow": null,
            "_model_module_version": "1.2.0",
            "_view_count": null,
            "flex_flow": null,
            "width": null,
            "min_width": null,
            "border": null,
            "align_items": null,
            "bottom": null,
            "_model_module": "@jupyter-widgets/base",
            "top": null,
            "grid_column": null,
            "overflow_y": null,
            "overflow_x": null,
            "grid_auto_flow": null,
            "grid_area": null,
            "grid_template_columns": null,
            "flex": null,
            "_model_name": "LayoutModel",
            "justify_items": null,
            "grid_row": null,
            "max_height": null,
            "align_content": null,
            "visibility": null,
            "align_self": null,
            "height": null,
            "min_height": null,
            "padding": null,
            "grid_auto_rows": null,
            "grid_gap": null,
            "max_width": null,
            "order": null,
            "_view_module_version": "1.2.0",
            "grid_template_areas": null,
            "object_position": null,
            "object_fit": null,
            "grid_auto_columns": null,
            "margin": null,
            "display": null,
            "left": null
          }
        },
        "4959b1775786446b9b08dc1b770a890f": {
          "model_module": "@jupyter-widgets/controls",
          "model_name": "HBoxModel",
          "state": {
            "_view_name": "HBoxView",
            "_dom_classes": [],
            "_model_name": "HBoxModel",
            "_view_module": "@jupyter-widgets/controls",
            "_model_module_version": "1.5.0",
            "_view_count": null,
            "_view_module_version": "1.5.0",
            "box_style": "",
            "layout": "IPY_MODEL_4ab0c1d53b624f1dbb8702c989265270",
            "_model_module": "@jupyter-widgets/controls",
            "children": [
              "IPY_MODEL_207d1f6a18fe4b17aa4afec92aafa5df",
              "IPY_MODEL_f2f7845644f54ba0b50af80173622e6e"
            ]
          }
        },
        "4ab0c1d53b624f1dbb8702c989265270": {
          "model_module": "@jupyter-widgets/base",
          "model_name": "LayoutModel",
          "state": {
            "_view_name": "LayoutView",
            "grid_template_rows": null,
            "right": null,
            "justify_content": null,
            "_view_module": "@jupyter-widgets/base",
            "overflow": null,
            "_model_module_version": "1.2.0",
            "_view_count": null,
            "flex_flow": null,
            "width": null,
            "min_width": null,
            "border": null,
            "align_items": null,
            "bottom": null,
            "_model_module": "@jupyter-widgets/base",
            "top": null,
            "grid_column": null,
            "overflow_y": null,
            "overflow_x": null,
            "grid_auto_flow": null,
            "grid_area": null,
            "grid_template_columns": null,
            "flex": null,
            "_model_name": "LayoutModel",
            "justify_items": null,
            "grid_row": null,
            "max_height": null,
            "align_content": null,
            "visibility": null,
            "align_self": null,
            "height": null,
            "min_height": null,
            "padding": null,
            "grid_auto_rows": null,
            "grid_gap": null,
            "max_width": null,
            "order": null,
            "_view_module_version": "1.2.0",
            "grid_template_areas": null,
            "object_position": null,
            "object_fit": null,
            "grid_auto_columns": null,
            "margin": null,
            "display": null,
            "left": null
          }
        },
        "207d1f6a18fe4b17aa4afec92aafa5df": {
          "model_module": "@jupyter-widgets/controls",
          "model_name": "FloatProgressModel",
          "state": {
            "_view_name": "ProgressView",
            "style": "IPY_MODEL_c50fcf6021f54a61936fd8532a80de11",
            "_dom_classes": [],
            "description": "Downloading: 100%",
            "_model_name": "FloatProgressModel",
            "bar_style": "success",
            "max": 3712,
            "_view_module": "@jupyter-widgets/controls",
            "_model_module_version": "1.5.0",
            "value": 3712,
            "_view_count": null,
            "_view_module_version": "1.5.0",
            "orientation": "horizontal",
            "min": 0,
            "description_tooltip": null,
            "_model_module": "@jupyter-widgets/controls",
            "layout": "IPY_MODEL_9869f6cda5d54acc95b9f7a914977a1f"
          }
        },
        "f2f7845644f54ba0b50af80173622e6e": {
          "model_module": "@jupyter-widgets/controls",
          "model_name": "HTMLModel",
          "state": {
            "_view_name": "HTMLView",
            "style": "IPY_MODEL_491344ef5ecd4a07b072ffeeb5b1e61a",
            "_dom_classes": [],
            "description": "",
            "_model_name": "HTMLModel",
            "placeholder": "​",
            "_view_module": "@jupyter-widgets/controls",
            "_model_module_version": "1.5.0",
            "value": " 3.71k/3.71k [00:16&lt;00:00, 228B/s]",
            "_view_count": null,
            "_view_module_version": "1.5.0",
            "description_tooltip": null,
            "_model_module": "@jupyter-widgets/controls",
            "layout": "IPY_MODEL_911fe3507bec44e18ecedc935ca27a39"
          }
        },
        "c50fcf6021f54a61936fd8532a80de11": {
          "model_module": "@jupyter-widgets/controls",
          "model_name": "ProgressStyleModel",
          "state": {
            "_view_name": "StyleView",
            "_model_name": "ProgressStyleModel",
            "description_width": "initial",
            "_view_module": "@jupyter-widgets/base",
            "_model_module_version": "1.5.0",
            "_view_count": null,
            "_view_module_version": "1.2.0",
            "bar_color": null,
            "_model_module": "@jupyter-widgets/controls"
          }
        },
        "9869f6cda5d54acc95b9f7a914977a1f": {
          "model_module": "@jupyter-widgets/base",
          "model_name": "LayoutModel",
          "state": {
            "_view_name": "LayoutView",
            "grid_template_rows": null,
            "right": null,
            "justify_content": null,
            "_view_module": "@jupyter-widgets/base",
            "overflow": null,
            "_model_module_version": "1.2.0",
            "_view_count": null,
            "flex_flow": null,
            "width": null,
            "min_width": null,
            "border": null,
            "align_items": null,
            "bottom": null,
            "_model_module": "@jupyter-widgets/base",
            "top": null,
            "grid_column": null,
            "overflow_y": null,
            "overflow_x": null,
            "grid_auto_flow": null,
            "grid_area": null,
            "grid_template_columns": null,
            "flex": null,
            "_model_name": "LayoutModel",
            "justify_items": null,
            "grid_row": null,
            "max_height": null,
            "align_content": null,
            "visibility": null,
            "align_self": null,
            "height": null,
            "min_height": null,
            "padding": null,
            "grid_auto_rows": null,
            "grid_gap": null,
            "max_width": null,
            "order": null,
            "_view_module_version": "1.2.0",
            "grid_template_areas": null,
            "object_position": null,
            "object_fit": null,
            "grid_auto_columns": null,
            "margin": null,
            "display": null,
            "left": null
          }
        },
        "491344ef5ecd4a07b072ffeeb5b1e61a": {
          "model_module": "@jupyter-widgets/controls",
          "model_name": "DescriptionStyleModel",
          "state": {
            "_view_name": "StyleView",
            "_model_name": "DescriptionStyleModel",
            "description_width": "",
            "_view_module": "@jupyter-widgets/base",
            "_model_module_version": "1.5.0",
            "_view_count": null,
            "_view_module_version": "1.2.0",
            "_model_module": "@jupyter-widgets/controls"
          }
        },
        "911fe3507bec44e18ecedc935ca27a39": {
          "model_module": "@jupyter-widgets/base",
          "model_name": "LayoutModel",
          "state": {
            "_view_name": "LayoutView",
            "grid_template_rows": null,
            "right": null,
            "justify_content": null,
            "_view_module": "@jupyter-widgets/base",
            "overflow": null,
            "_model_module_version": "1.2.0",
            "_view_count": null,
            "flex_flow": null,
            "width": null,
            "min_width": null,
            "border": null,
            "align_items": null,
            "bottom": null,
            "_model_module": "@jupyter-widgets/base",
            "top": null,
            "grid_column": null,
            "overflow_y": null,
            "overflow_x": null,
            "grid_auto_flow": null,
            "grid_area": null,
            "grid_template_columns": null,
            "flex": null,
            "_model_name": "LayoutModel",
            "justify_items": null,
            "grid_row": null,
            "max_height": null,
            "align_content": null,
            "visibility": null,
            "align_self": null,
            "height": null,
            "min_height": null,
            "padding": null,
            "grid_auto_rows": null,
            "grid_gap": null,
            "max_width": null,
            "order": null,
            "_view_module_version": "1.2.0",
            "grid_template_areas": null,
            "object_position": null,
            "object_fit": null,
            "grid_auto_columns": null,
            "margin": null,
            "display": null,
            "left": null
          }
        },
        "2475989651a0497998bc2902e4bb4251": {
          "model_module": "@jupyter-widgets/controls",
          "model_name": "HBoxModel",
          "state": {
            "_view_name": "HBoxView",
            "_dom_classes": [],
            "_model_name": "HBoxModel",
            "_view_module": "@jupyter-widgets/controls",
            "_model_module_version": "1.5.0",
            "_view_count": null,
            "_view_module_version": "1.5.0",
            "box_style": "",
            "layout": "IPY_MODEL_a092c031d3c247dd9d9b785cb6a978fc",
            "_model_module": "@jupyter-widgets/controls",
            "children": [
              "IPY_MODEL_4d45bf3cac904e2e977a1d4588a77d7f",
              "IPY_MODEL_353644c890f4420298b4d81a87e821f7"
            ]
          }
        },
        "a092c031d3c247dd9d9b785cb6a978fc": {
          "model_module": "@jupyter-widgets/base",
          "model_name": "LayoutModel",
          "state": {
            "_view_name": "LayoutView",
            "grid_template_rows": null,
            "right": null,
            "justify_content": null,
            "_view_module": "@jupyter-widgets/base",
            "overflow": null,
            "_model_module_version": "1.2.0",
            "_view_count": null,
            "flex_flow": null,
            "width": null,
            "min_width": null,
            "border": null,
            "align_items": null,
            "bottom": null,
            "_model_module": "@jupyter-widgets/base",
            "top": null,
            "grid_column": null,
            "overflow_y": null,
            "overflow_x": null,
            "grid_auto_flow": null,
            "grid_area": null,
            "grid_template_columns": null,
            "flex": null,
            "_model_name": "LayoutModel",
            "justify_items": null,
            "grid_row": null,
            "max_height": null,
            "align_content": null,
            "visibility": null,
            "align_self": null,
            "height": null,
            "min_height": null,
            "padding": null,
            "grid_auto_rows": null,
            "grid_gap": null,
            "max_width": null,
            "order": null,
            "_view_module_version": "1.2.0",
            "grid_template_areas": null,
            "object_position": null,
            "object_fit": null,
            "grid_auto_columns": null,
            "margin": null,
            "display": null,
            "left": null
          }
        },
        "4d45bf3cac904e2e977a1d4588a77d7f": {
          "model_module": "@jupyter-widgets/controls",
          "model_name": "FloatProgressModel",
          "state": {
            "_view_name": "ProgressView",
            "style": "IPY_MODEL_7d46059f7ae1406c8d5bfa9d9b4c5e50",
            "_dom_classes": [],
            "description": "Downloading: 100%",
            "_model_name": "FloatProgressModel",
            "bar_style": "success",
            "max": 407021303,
            "_view_module": "@jupyter-widgets/controls",
            "_model_module_version": "1.5.0",
            "value": 407021303,
            "_view_count": null,
            "_view_module_version": "1.5.0",
            "orientation": "horizontal",
            "min": 0,
            "description_tooltip": null,
            "_model_module": "@jupyter-widgets/controls",
            "layout": "IPY_MODEL_9c9796e84b144e95bff486080ec14a23"
          }
        },
        "353644c890f4420298b4d81a87e821f7": {
          "model_module": "@jupyter-widgets/controls",
          "model_name": "HTMLModel",
          "state": {
            "_view_name": "HTMLView",
            "style": "IPY_MODEL_fe27b8b0cb3346e996797767afcf5231",
            "_dom_classes": [],
            "description": "",
            "_model_name": "HTMLModel",
            "placeholder": "​",
            "_view_module": "@jupyter-widgets/controls",
            "_model_module_version": "1.5.0",
            "value": " 407M/407M [00:15&lt;00:00, 26.1MB/s]",
            "_view_count": null,
            "_view_module_version": "1.5.0",
            "description_tooltip": null,
            "_model_module": "@jupyter-widgets/controls",
            "layout": "IPY_MODEL_05c180e6130b4f17b3cacde7b5d50d2d"
          }
        },
        "7d46059f7ae1406c8d5bfa9d9b4c5e50": {
          "model_module": "@jupyter-widgets/controls",
          "model_name": "ProgressStyleModel",
          "state": {
            "_view_name": "StyleView",
            "_model_name": "ProgressStyleModel",
            "description_width": "initial",
            "_view_module": "@jupyter-widgets/base",
            "_model_module_version": "1.5.0",
            "_view_count": null,
            "_view_module_version": "1.2.0",
            "bar_color": null,
            "_model_module": "@jupyter-widgets/controls"
          }
        },
        "9c9796e84b144e95bff486080ec14a23": {
          "model_module": "@jupyter-widgets/base",
          "model_name": "LayoutModel",
          "state": {
            "_view_name": "LayoutView",
            "grid_template_rows": null,
            "right": null,
            "justify_content": null,
            "_view_module": "@jupyter-widgets/base",
            "overflow": null,
            "_model_module_version": "1.2.0",
            "_view_count": null,
            "flex_flow": null,
            "width": null,
            "min_width": null,
            "border": null,
            "align_items": null,
            "bottom": null,
            "_model_module": "@jupyter-widgets/base",
            "top": null,
            "grid_column": null,
            "overflow_y": null,
            "overflow_x": null,
            "grid_auto_flow": null,
            "grid_area": null,
            "grid_template_columns": null,
            "flex": null,
            "_model_name": "LayoutModel",
            "justify_items": null,
            "grid_row": null,
            "max_height": null,
            "align_content": null,
            "visibility": null,
            "align_self": null,
            "height": null,
            "min_height": null,
            "padding": null,
            "grid_auto_rows": null,
            "grid_gap": null,
            "max_width": null,
            "order": null,
            "_view_module_version": "1.2.0",
            "grid_template_areas": null,
            "object_position": null,
            "object_fit": null,
            "grid_auto_columns": null,
            "margin": null,
            "display": null,
            "left": null
          }
        },
        "fe27b8b0cb3346e996797767afcf5231": {
          "model_module": "@jupyter-widgets/controls",
          "model_name": "DescriptionStyleModel",
          "state": {
            "_view_name": "StyleView",
            "_model_name": "DescriptionStyleModel",
            "description_width": "",
            "_view_module": "@jupyter-widgets/base",
            "_model_module_version": "1.5.0",
            "_view_count": null,
            "_view_module_version": "1.2.0",
            "_model_module": "@jupyter-widgets/controls"
          }
        },
        "05c180e6130b4f17b3cacde7b5d50d2d": {
          "model_module": "@jupyter-widgets/base",
          "model_name": "LayoutModel",
          "state": {
            "_view_name": "LayoutView",
            "grid_template_rows": null,
            "right": null,
            "justify_content": null,
            "_view_module": "@jupyter-widgets/base",
            "overflow": null,
            "_model_module_version": "1.2.0",
            "_view_count": null,
            "flex_flow": null,
            "width": null,
            "min_width": null,
            "border": null,
            "align_items": null,
            "bottom": null,
            "_model_module": "@jupyter-widgets/base",
            "top": null,
            "grid_column": null,
            "overflow_y": null,
            "overflow_x": null,
            "grid_auto_flow": null,
            "grid_area": null,
            "grid_template_columns": null,
            "flex": null,
            "_model_name": "LayoutModel",
            "justify_items": null,
            "grid_row": null,
            "max_height": null,
            "align_content": null,
            "visibility": null,
            "align_self": null,
            "height": null,
            "min_height": null,
            "padding": null,
            "grid_auto_rows": null,
            "grid_gap": null,
            "max_width": null,
            "order": null,
            "_view_module_version": "1.2.0",
            "grid_template_areas": null,
            "object_position": null,
            "object_fit": null,
            "grid_auto_columns": null,
            "margin": null,
            "display": null,
            "left": null
          }
        }
      }
    }
  },
  "cells": [
    {
      "cell_type": "markdown",
      "metadata": {
        "id": "view-in-github",
        "colab_type": "text"
      },
      "source": [
        "<a href=\"https://colab.research.google.com/github/skywalker0803r/NLP/blob/main/bert/bert_base_chinese_ner.ipynb\" target=\"_parent\"><img src=\"https://colab.research.google.com/assets/colab-badge.svg\" alt=\"Open In Colab\"/></a>"
      ]
    },
    {
      "cell_type": "code",
      "metadata": {
        "id": "gJPqN-QruF_t"
      },
      "source": [
        "!pip install transformers > log.txt"
      ],
      "execution_count": 1,
      "outputs": []
    },
    {
      "cell_type": "code",
      "metadata": {
        "id": "RUd09saUzJAq"
      },
      "source": [
        "from transformers import AutoTokenizer, AutoModelForTokenClassification\n",
        "from transformers import pipeline"
      ],
      "execution_count": 2,
      "outputs": []
    },
    {
      "cell_type": "markdown",
      "metadata": {
        "id": "FoaM3MMHzLDg"
      },
      "source": [
        "# model"
      ]
    },
    {
      "cell_type": "code",
      "metadata": {
        "id": "gfwYdmRoudpc",
        "colab": {
          "base_uri": "https://localhost:8080/",
          "height": 318,
          "referenced_widgets": [
            "194f65eb5fec40ac974fcb75627ea00d",
            "666abdc17d4c4786b939736e95d9512c",
            "d33384ec48fc44ef87cf9580b49c9345",
            "433cd8dd3f2a4891b1896e5ffda5b42d",
            "e5208c4952224d4ab513e72ab62eb7b5",
            "035bb718831a460ca520100fc5bef82a",
            "084c2101b1c043af82fc7f03fe490955",
            "1dce46b83a24467fab35e99d883ad2ac",
            "0a61160b2bbd4577a4b4d6afd4bd139c",
            "cb82d147505a42c1871fd7343a1dbee6",
            "f7c25fbf4b044cdea7a072bce134d1e3",
            "a33285fe66874f88b3dd3d5de718a76f",
            "22959d2a3dfa49b0b22def1545d54ffe",
            "f100e744647b4b10879a5258d8c9580f",
            "f89ee368ffa2468985a3f5485ac0a2cc",
            "773dd742d43448398f8133aeee9dc68e",
            "453e777e4b8f467996d77438155eb58b",
            "5c6245f545ef4b75b6655437c7c056bf",
            "e5cc206489764ed7ac343234995084ed",
            "b8ad5a7ea7d147a4b4fbfc830030f1c7",
            "55b676c7de6e4b1497b0312abed7382d",
            "c9f2cd6b24fb46e6af80b8642a3e89be",
            "1b597105363d41d58fc1cc855ab74bd0",
            "66d3e8397a264a1da7323ccde38516ac",
            "09d9208bc2e343cb92a14d6df575e9fd",
            "d79a00d516eb48a3ac038d37bedca995",
            "4867e0184b954a17b85b4a7d5d55a966",
            "505ce07a64b94964bd390e5fcc95c93e",
            "0c30579c073944aeb7f9260164e3f793",
            "6325e25b5ec245b7b74b9dc26f18335b",
            "9fc0a1f4d7d34f72ba3a00e1287456e3",
            "3b38cfd42a0b4d6583a0bb7470feba49",
            "4959b1775786446b9b08dc1b770a890f",
            "4ab0c1d53b624f1dbb8702c989265270",
            "207d1f6a18fe4b17aa4afec92aafa5df",
            "f2f7845644f54ba0b50af80173622e6e",
            "c50fcf6021f54a61936fd8532a80de11",
            "9869f6cda5d54acc95b9f7a914977a1f",
            "491344ef5ecd4a07b072ffeeb5b1e61a",
            "911fe3507bec44e18ecedc935ca27a39",
            "2475989651a0497998bc2902e4bb4251",
            "a092c031d3c247dd9d9b785cb6a978fc",
            "4d45bf3cac904e2e977a1d4588a77d7f",
            "353644c890f4420298b4d81a87e821f7",
            "7d46059f7ae1406c8d5bfa9d9b4c5e50",
            "9c9796e84b144e95bff486080ec14a23",
            "fe27b8b0cb3346e996797767afcf5231",
            "05c180e6130b4f17b3cacde7b5d50d2d"
          ]
        },
        "outputId": "d0d48fd0-8f6d-4a05-a703-ffe12664ffca"
      },
      "source": [
        "tokenizer = AutoTokenizer.from_pretrained('bert-base-chinese')\n",
        "model = AutoModelForTokenClassification.from_pretrained('ckiplab/bert-base-chinese-ner')\n",
        "nlp = pipeline(\"ner\", model=model, tokenizer=tokenizer)"
      ],
      "execution_count": 3,
      "outputs": [
        {
          "output_type": "display_data",
          "data": {
            "application/vnd.jupyter.widget-view+json": {
              "model_id": "194f65eb5fec40ac974fcb75627ea00d",
              "version_minor": 0,
              "version_major": 2
            },
            "text/plain": [
              "HBox(children=(FloatProgress(value=0.0, description='Downloading', max=624.0, style=ProgressStyle(description_…"
            ]
          },
          "metadata": {
            "tags": []
          }
        },
        {
          "output_type": "stream",
          "text": [
            "\n"
          ],
          "name": "stdout"
        },
        {
          "output_type": "display_data",
          "data": {
            "application/vnd.jupyter.widget-view+json": {
              "model_id": "0a61160b2bbd4577a4b4d6afd4bd139c",
              "version_minor": 0,
              "version_major": 2
            },
            "text/plain": [
              "HBox(children=(FloatProgress(value=0.0, description='Downloading', max=109540.0, style=ProgressStyle(descripti…"
            ]
          },
          "metadata": {
            "tags": []
          }
        },
        {
          "output_type": "stream",
          "text": [
            "\n"
          ],
          "name": "stdout"
        },
        {
          "output_type": "display_data",
          "data": {
            "application/vnd.jupyter.widget-view+json": {
              "model_id": "453e777e4b8f467996d77438155eb58b",
              "version_minor": 0,
              "version_major": 2
            },
            "text/plain": [
              "HBox(children=(FloatProgress(value=0.0, description='Downloading', max=268943.0, style=ProgressStyle(descripti…"
            ]
          },
          "metadata": {
            "tags": []
          }
        },
        {
          "output_type": "stream",
          "text": [
            "\n"
          ],
          "name": "stdout"
        },
        {
          "output_type": "display_data",
          "data": {
            "application/vnd.jupyter.widget-view+json": {
              "model_id": "09d9208bc2e343cb92a14d6df575e9fd",
              "version_minor": 0,
              "version_major": 2
            },
            "text/plain": [
              "HBox(children=(FloatProgress(value=0.0, description='Downloading', max=29.0, style=ProgressStyle(description_w…"
            ]
          },
          "metadata": {
            "tags": []
          }
        },
        {
          "output_type": "stream",
          "text": [
            "\n"
          ],
          "name": "stdout"
        },
        {
          "output_type": "display_data",
          "data": {
            "application/vnd.jupyter.widget-view+json": {
              "model_id": "4959b1775786446b9b08dc1b770a890f",
              "version_minor": 0,
              "version_major": 2
            },
            "text/plain": [
              "HBox(children=(FloatProgress(value=0.0, description='Downloading', max=3712.0, style=ProgressStyle(description…"
            ]
          },
          "metadata": {
            "tags": []
          }
        },
        {
          "output_type": "stream",
          "text": [
            "\n"
          ],
          "name": "stdout"
        },
        {
          "output_type": "display_data",
          "data": {
            "application/vnd.jupyter.widget-view+json": {
              "model_id": "2475989651a0497998bc2902e4bb4251",
              "version_minor": 0,
              "version_major": 2
            },
            "text/plain": [
              "HBox(children=(FloatProgress(value=0.0, description='Downloading', max=407021303.0, style=ProgressStyle(descri…"
            ]
          },
          "metadata": {
            "tags": []
          }
        },
        {
          "output_type": "stream",
          "text": [
            "\n"
          ],
          "name": "stdout"
        }
      ]
    },
    {
      "cell_type": "markdown",
      "metadata": {
        "id": "2OdyFsmpzO9f"
      },
      "source": [
        "# 吃一則 網路新聞 看模型能不能辨識出 \"公司(或稱組織)簡稱ORG\" 這個 entity"
      ]
    },
    {
      "cell_type": "code",
      "metadata": {
        "colab": {
          "base_uri": "https://localhost:8080/"
        },
        "id": "Uk_aB9TPwBtu",
        "outputId": "62fd1550-f89c-462d-d030-cce4065bf09c"
      },
      "source": [
        "example = '''\n",
        "台塑集團對未來石化產品行情提出預警，認為這波價格狂飆走勢可能已經觸頂，影響塑膠股今（7日）盤中走弱，類股指數盤中跌逾5%，台塑四寶以台塑跌幅最深，一度下跌10元至103元，跌幅逾8%。\n",
        "\n",
        "台塑四寶6日公布4月合計營收1,388.74億元，年增84.1%，其中，南亞續創單月歷史新高，台塑為歷史單月次高，台塑集團認為，整體石化業市場行情仍位居高，不過，下游業者轉嫁高價成本有壓，使市場購料氛圍轉趨觀望，加以新興市場疫情惡化，多國封城再起，不利石化產品需求增長，而大陸新增產能投產且調控原物料價格，部分石化產品價格面臨下修壓力，可能使這波石化品價格飆漲高峰可能已過。\n",
        "\n",
        "塑化龍頭台塑的示警，讓塑膠類股一片臉綠，台塑開低走低，盤中觸及103元，大幅下跌10元，差1元掉到跌停板，跌幅逾8%，接近午盤時成交量已有3.3萬張，超過昨日全天成交量，南亞、台化也跌逾3%，連帶影響塑膠股走弱，國喬甚至來到跌停板29.05元。台塑集團的另一檔台塑化股價也跌逾3%。\n",
        "\n",
        "對於台塑的示警以及塑膠股走弱是否代表傳產原物料行情熄火，還是因為之前原物料行情漲太快？萬通國際總分析師陳鋒認為，原物料行情如果要持續發熱，塑化股絕對占有一席之地，今日剛好鋼鐵、水泥、紡織等原物料族群都休息，未來走勢還是要回歸國際行情，例如布蘭特原油價格從3月中的每桶64美元，漲到現在接近70美元，而倫敦銅的交易價格更站上每噸10,000美元，都可看出景氣持續回溫，原物料行情並未走空。\n",
        "'''\n",
        "ner_results = nlp(example)\n",
        "for i in ner_results:\n",
        "  if 'ORG' in i['entity']:\n",
        "    print(i)"
      ],
      "execution_count": 4,
      "outputs": [
        {
          "output_type": "stream",
          "text": [
            "{'entity': 'B-ORG', 'score': 0.99982315, 'index': 1, 'word': '台', 'start': 1, 'end': 2}\n",
            "{'entity': 'I-ORG', 'score': 0.99995273, 'index': 2, 'word': '塑', 'start': 2, 'end': 3}\n",
            "{'entity': 'I-ORG', 'score': 0.999974, 'index': 3, 'word': '集', 'start': 3, 'end': 4}\n",
            "{'entity': 'E-ORG', 'score': 0.99998695, 'index': 4, 'word': '團', 'start': 4, 'end': 5}\n",
            "{'entity': 'B-ORG', 'score': 0.99923766, 'index': 62, 'word': '台', 'start': 62, 'end': 63}\n",
            "{'entity': 'I-ORG', 'score': 0.99842393, 'index': 63, 'word': '塑', 'start': 63, 'end': 64}\n",
            "{'entity': 'I-ORG', 'score': 0.99901026, 'index': 64, 'word': '四', 'start': 64, 'end': 65}\n",
            "{'entity': 'E-ORG', 'score': 0.9997963, 'index': 65, 'word': '寶', 'start': 65, 'end': 66}\n",
            "{'entity': 'B-ORG', 'score': 0.9036904, 'index': 67, 'word': '台', 'start': 67, 'end': 68}\n",
            "{'entity': 'E-ORG', 'score': 0.992185, 'index': 68, 'word': '塑', 'start': 68, 'end': 69}\n",
            "{'entity': 'B-ORG', 'score': 0.99443233, 'index': 90, 'word': '台', 'start': 95, 'end': 96}\n",
            "{'entity': 'I-ORG', 'score': 0.97825944, 'index': 91, 'word': '塑', 'start': 96, 'end': 97}\n",
            "{'entity': 'I-ORG', 'score': 0.993215, 'index': 92, 'word': '四', 'start': 97, 'end': 98}\n",
            "{'entity': 'E-ORG', 'score': 0.9954414, 'index': 93, 'word': '寶', 'start': 98, 'end': 99}\n",
            "{'entity': 'B-ORG', 'score': 0.9992756, 'index': 133, 'word': '台', 'start': 142, 'end': 143}\n",
            "{'entity': 'E-ORG', 'score': 0.9992377, 'index': 134, 'word': '塑', 'start': 143, 'end': 144}\n",
            "{'entity': 'B-ORG', 'score': 0.99971956, 'index': 143, 'word': '台', 'start': 152, 'end': 153}\n",
            "{'entity': 'I-ORG', 'score': 0.9999378, 'index': 144, 'word': '塑', 'start': 153, 'end': 154}\n",
            "{'entity': 'I-ORG', 'score': 0.99990755, 'index': 145, 'word': '集', 'start': 154, 'end': 155}\n",
            "{'entity': 'E-ORG', 'score': 0.9999803, 'index': 146, 'word': '團', 'start': 155, 'end': 156}\n",
            "{'entity': 'B-ORG', 'score': 0.9364164, 'index': 277, 'word': '台', 'start': 288, 'end': 289}\n",
            "{'entity': 'E-ORG', 'score': 0.9802595, 'index': 278, 'word': '塑', 'start': 289, 'end': 290}\n",
            "{'entity': 'B-ORG', 'score': 0.9918121, 'index': 293, 'word': '台', 'start': 304, 'end': 305}\n",
            "{'entity': 'I-ORG', 'score': 0.98996156, 'index': 294, 'word': '塑', 'start': 305, 'end': 306}\n",
            "{'entity': 'B-ORG', 'score': 0.96460456, 'index': 355, 'word': '南', 'start': 369, 'end': 370}\n",
            "{'entity': 'E-ORG', 'score': 0.9685231, 'index': 356, 'word': '亞', 'start': 370, 'end': 371}\n",
            "{'entity': 'B-ORG', 'score': 0.99393916, 'index': 358, 'word': '台', 'start': 372, 'end': 373}\n",
            "{'entity': 'E-ORG', 'score': 0.99520373, 'index': 359, 'word': '化', 'start': 373, 'end': 374}\n",
            "{'entity': 'B-ORG', 'score': 0.99694073, 'index': 376, 'word': '國', 'start': 390, 'end': 391}\n",
            "{'entity': 'E-ORG', 'score': 0.99934715, 'index': 377, 'word': '喬', 'start': 391, 'end': 392}\n",
            "{'entity': 'B-ORG', 'score': 0.9997663, 'index': 390, 'word': '台', 'start': 406, 'end': 407}\n",
            "{'entity': 'I-ORG', 'score': 0.99989927, 'index': 391, 'word': '塑', 'start': 407, 'end': 408}\n",
            "{'entity': 'I-ORG', 'score': 0.9998204, 'index': 392, 'word': '集', 'start': 408, 'end': 409}\n",
            "{'entity': 'E-ORG', 'score': 0.9999762, 'index': 393, 'word': '團', 'start': 409, 'end': 410}\n",
            "{'entity': 'B-ORG', 'score': 0.75483423, 'index': 398, 'word': '台', 'start': 414, 'end': 415}\n",
            "{'entity': 'I-ORG', 'score': 0.5406414, 'index': 399, 'word': '塑', 'start': 415, 'end': 416}\n",
            "{'entity': 'E-ORG', 'score': 0.6501273, 'index': 400, 'word': '化', 'start': 416, 'end': 417}\n",
            "{'entity': 'B-ORG', 'score': 0.98677474, 'index': 411, 'word': '台', 'start': 429, 'end': 430}\n",
            "{'entity': 'E-ORG', 'score': 0.9996255, 'index': 412, 'word': '塑', 'start': 430, 'end': 431}\n",
            "{'entity': 'B-ORG', 'score': 0.6930766, 'index': 452, 'word': '萬', 'start': 470, 'end': 471}\n"
          ],
          "name": "stdout"
        }
      ]
    },
    {
      "cell_type": "markdown",
      "metadata": {
        "id": "9xAwHfrXSm1q"
      },
      "source": [
        "# 看其他 entity"
      ]
    },
    {
      "cell_type": "code",
      "metadata": {
        "id": "n8dR5l3IxI0U",
        "colab": {
          "base_uri": "https://localhost:8080/"
        },
        "outputId": "a1a2a4c8-aabf-42bc-bfa1-38fda1abebae"
      },
      "source": [
        "ner_results = nlp(example)\n",
        "for i in ner_results:\n",
        "  if 'ORG' not in i['entity']:\n",
        "    print(i)"
      ],
      "execution_count": 5,
      "outputs": [
        {
          "output_type": "stream",
          "text": [
            "{'entity': 'B-DATE', 'score': 0.9999791, 'index': 43, 'word': '7', 'start': 43, 'end': 44}\n",
            "{'entity': 'E-DATE', 'score': 0.999988, 'index': 44, 'word': '日', 'start': 44, 'end': 45}\n",
            "{'entity': 'B-PERCENT', 'score': 0.9999786, 'index': 59, 'word': '5', 'start': 59, 'end': 60}\n",
            "{'entity': 'E-PERCENT', 'score': 0.99998087, 'index': 60, 'word': '%', 'start': 60, 'end': 61}\n",
            "{'entity': 'B-MONEY', 'score': 0.9999492, 'index': 78, 'word': '10', 'start': 78, 'end': 80}\n",
            "{'entity': 'I-MONEY', 'score': 0.9988539, 'index': 79, 'word': '元', 'start': 80, 'end': 81}\n",
            "{'entity': 'I-MONEY', 'score': 0.9998901, 'index': 80, 'word': '至', 'start': 81, 'end': 82}\n",
            "{'entity': 'I-MONEY', 'score': 0.9999841, 'index': 81, 'word': '103', 'start': 82, 'end': 85}\n",
            "{'entity': 'E-MONEY', 'score': 0.99997884, 'index': 82, 'word': '元', 'start': 85, 'end': 86}\n",
            "{'entity': 'B-PERCENT', 'score': 0.99997276, 'index': 87, 'word': '8', 'start': 90, 'end': 91}\n",
            "{'entity': 'E-PERCENT', 'score': 0.99998534, 'index': 88, 'word': '%', 'start': 91, 'end': 92}\n",
            "{'entity': 'B-DATE', 'score': 0.9998866, 'index': 94, 'word': '6', 'start': 99, 'end': 100}\n",
            "{'entity': 'E-DATE', 'score': 0.9999585, 'index': 95, 'word': '日', 'start': 100, 'end': 101}\n",
            "{'entity': 'B-DATE', 'score': 0.9998394, 'index': 98, 'word': '4', 'start': 103, 'end': 104}\n",
            "{'entity': 'E-DATE', 'score': 0.9999649, 'index': 99, 'word': '月', 'start': 104, 'end': 105}\n",
            "{'entity': 'B-MONEY', 'score': 0.9922383, 'index': 104, 'word': '1', 'start': 109, 'end': 110}\n",
            "{'entity': 'I-MONEY', 'score': 0.99980277, 'index': 105, 'word': ',', 'start': 110, 'end': 111}\n",
            "{'entity': 'I-MONEY', 'score': 0.99973696, 'index': 106, 'word': '388', 'start': 111, 'end': 114}\n",
            "{'entity': 'I-MONEY', 'score': 0.999815, 'index': 107, 'word': '.', 'start': 114, 'end': 115}\n",
            "{'entity': 'I-MONEY', 'score': 0.9999845, 'index': 108, 'word': '74', 'start': 115, 'end': 117}\n",
            "{'entity': 'I-MONEY', 'score': 0.99998444, 'index': 109, 'word': '億', 'start': 117, 'end': 118}\n",
            "{'entity': 'E-MONEY', 'score': 0.9999889, 'index': 110, 'word': '元', 'start': 118, 'end': 119}\n",
            "{'entity': 'B-PERCENT', 'score': 0.99974746, 'index': 114, 'word': '84', 'start': 122, 'end': 124}\n",
            "{'entity': 'I-PERCENT', 'score': 0.99998754, 'index': 115, 'word': '.', 'start': 124, 'end': 125}\n",
            "{'entity': 'I-PERCENT', 'score': 0.9999884, 'index': 116, 'word': '1', 'start': 125, 'end': 126}\n",
            "{'entity': 'E-PERCENT', 'score': 0.99998915, 'index': 117, 'word': '%', 'start': 126, 'end': 127}\n",
            "{'entity': 'B-LOC', 'score': 0.82813925, 'index': 122, 'word': '南', 'start': 131, 'end': 132}\n",
            "{'entity': 'E-LOC', 'score': 0.9960196, 'index': 123, 'word': '亞', 'start': 132, 'end': 133}\n",
            "{'entity': 'E-DATE', 'score': 0.97008765, 'index': 127, 'word': '月', 'start': 136, 'end': 137}\n",
            "{'entity': 'B-MONEY', 'score': 0.99994266, 'index': 304, 'word': '103', 'start': 315, 'end': 318}\n",
            "{'entity': 'E-MONEY', 'score': 0.9999365, 'index': 305, 'word': '元', 'start': 318, 'end': 319}\n",
            "{'entity': 'B-MONEY', 'score': 0.99997914, 'index': 311, 'word': '10', 'start': 324, 'end': 326}\n",
            "{'entity': 'E-MONEY', 'score': 0.9999705, 'index': 312, 'word': '元', 'start': 326, 'end': 327}\n",
            "{'entity': 'B-MONEY', 'score': 0.9996852, 'index': 315, 'word': '1', 'start': 329, 'end': 330}\n",
            "{'entity': 'E-MONEY', 'score': 0.9998245, 'index': 316, 'word': '元', 'start': 330, 'end': 331}\n",
            "{'entity': 'B-PERCENT', 'score': 0.99996775, 'index': 326, 'word': '8', 'start': 340, 'end': 341}\n",
            "{'entity': 'E-PERCENT', 'score': 0.99998915, 'index': 327, 'word': '%', 'start': 341, 'end': 342}\n",
            "{'entity': 'B-CARDINAL', 'score': 0.9445369, 'index': 339, 'word': '3', 'start': 353, 'end': 354}\n",
            "{'entity': 'I-CARDINAL', 'score': 0.79118866, 'index': 340, 'word': '.', 'start': 354, 'end': 355}\n",
            "{'entity': 'I-CARDINAL', 'score': 0.9816761, 'index': 341, 'word': '3', 'start': 355, 'end': 356}\n",
            "{'entity': 'E-CARDINAL', 'score': 0.99816346, 'index': 342, 'word': '萬', 'start': 356, 'end': 357}\n",
            "{'entity': 'B-DATE', 'score': 0.9999676, 'index': 347, 'word': '昨', 'start': 361, 'end': 362}\n",
            "{'entity': 'E-DATE', 'score': 0.9999838, 'index': 348, 'word': '日', 'start': 362, 'end': 363}\n",
            "{'entity': 'B-DATE', 'score': 0.6449912, 'index': 349, 'word': '全', 'start': 363, 'end': 364}\n",
            "{'entity': 'E-DATE', 'score': 0.9971781, 'index': 350, 'word': '天', 'start': 364, 'end': 365}\n",
            "{'entity': 'B-MONEY', 'score': 0.87176394, 'index': 363, 'word': '3', 'start': 377, 'end': 378}\n",
            "{'entity': 'E-PERCENT', 'score': 0.9999837, 'index': 364, 'word': '%', 'start': 378, 'end': 379}\n",
            "{'entity': 'B-MONEY', 'score': 0.9987147, 'index': 385, 'word': '29', 'start': 399, 'end': 401}\n",
            "{'entity': 'I-MONEY', 'score': 0.9998797, 'index': 386, 'word': '.', 'start': 401, 'end': 402}\n",
            "{'entity': 'I-MONEY', 'score': 0.9999846, 'index': 387, 'word': '05', 'start': 402, 'end': 404}\n",
            "{'entity': 'E-MONEY', 'score': 0.99929124, 'index': 388, 'word': '元', 'start': 404, 'end': 405}\n",
            "{'entity': 'B-PERCENT', 'score': 0.99997824, 'index': 406, 'word': '3', 'start': 422, 'end': 423}\n",
            "{'entity': 'E-PERCENT', 'score': 0.99999213, 'index': 407, 'word': '%', 'start': 423, 'end': 424}\n",
            "{'entity': 'B-PERSON', 'score': 0.9987638, 'index': 460, 'word': '陳', 'start': 478, 'end': 479}\n",
            "{'entity': 'E-PERSON', 'score': 0.9996169, 'index': 461, 'word': '鋒', 'start': 479, 'end': 480}\n",
            "{'entity': 'B-DATE', 'score': 0.9999957, 'index': 490, 'word': '今', 'start': 508, 'end': 509}\n",
            "{'entity': 'E-DATE', 'score': 0.9999933, 'index': 491, 'word': '日', 'start': 509, 'end': 510}\n"
          ],
          "name": "stdout"
        }
      ]
    },
    {
      "cell_type": "code",
      "metadata": {
        "id": "yqMOO3Wx4OmU"
      },
      "source": [
        ""
      ],
      "execution_count": 5,
      "outputs": []
    }
  ]
}