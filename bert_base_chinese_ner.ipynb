{
  "nbformat": 4,
  "nbformat_minor": 0,
  "metadata": {
    "colab": {
      "name": "bert-base-chinese-ner.ipynb",
      "provenance": [],
      "authorship_tag": "ABX9TyORgUv7H5goHIoFPfRWtSzA",
      "include_colab_link": true
    },
    "kernelspec": {
      "name": "python3",
      "display_name": "Python 3"
    },
    "language_info": {
      "name": "python"
    }
  },
  "cells": [
    {
      "cell_type": "markdown",
      "metadata": {
        "id": "view-in-github",
        "colab_type": "text"
      },
      "source": [
        "<a href=\"https://colab.research.google.com/github/skywalker0803r/NLP/blob/main/bert_base_chinese_ner.ipynb\" target=\"_parent\"><img src=\"https://colab.research.google.com/assets/colab-badge.svg\" alt=\"Open In Colab\"/></a>"
      ]
    },
    {
      "cell_type": "code",
      "metadata": {
        "id": "gJPqN-QruF_t"
      },
      "source": [
        "!pip install transformers > log.txt"
      ],
      "execution_count": 28,
      "outputs": []
    },
    {
      "cell_type": "code",
      "metadata": {
        "id": "RUd09saUzJAq"
      },
      "source": [
        "from transformers import AutoTokenizer, AutoModelForTokenClassification\n",
        "from transformers import pipeline"
      ],
      "execution_count": 29,
      "outputs": []
    },
    {
      "cell_type": "markdown",
      "metadata": {
        "id": "FoaM3MMHzLDg"
      },
      "source": [
        "# model"
      ]
    },
    {
      "cell_type": "code",
      "metadata": {
        "id": "gfwYdmRoudpc"
      },
      "source": [
        "tokenizer = AutoTokenizer.from_pretrained('bert-base-chinese')\n",
        "model = AutoModelForTokenClassification.from_pretrained('ckiplab/bert-base-chinese-ner')\n",
        "nlp = pipeline(\"ner\", model=model, tokenizer=tokenizer)"
      ],
      "execution_count": 30,
      "outputs": []
    },
    {
      "cell_type": "markdown",
      "metadata": {
        "id": "2OdyFsmpzO9f"
      },
      "source": [
        "# inference 網路新聞"
      ]
    },
    {
      "cell_type": "code",
      "metadata": {
        "colab": {
          "base_uri": "https://localhost:8080/"
        },
        "id": "Uk_aB9TPwBtu",
        "outputId": "7096fde5-2277-4f84-e756-57969a7f4aa7"
      },
      "source": [
        "example = '''\n",
        "台塑集團對未來石化產品行情提出預警，認為這波價格狂飆走勢可能已經觸頂，影響塑膠股今（7日）盤中走弱，類股指數盤中跌逾5%，台塑四寶以台塑跌幅最深，一度下跌10元至103元，跌幅逾8%。\n",
        "\n",
        "台塑四寶6日公布4月合計營收1,388.74億元，年增84.1%，其中，南亞續創單月歷史新高，台塑為歷史單月次高，台塑集團認為，整體石化業市場行情仍位居高，不過，下游業者轉嫁高價成本有壓，使市場購料氛圍轉趨觀望，加以新興市場疫情惡化，多國封城再起，不利石化產品需求增長，而大陸新增產能投產且調控原物料價格，部分石化產品價格面臨下修壓力，可能使這波石化品價格飆漲高峰可能已過。\n",
        "\n",
        "塑化龍頭台塑的示警，讓塑膠類股一片臉綠，台塑開低走低，盤中觸及103元，大幅下跌10元，差1元掉到跌停板，跌幅逾8%，接近午盤時成交量已有3.3萬張，超過昨日全天成交量，南亞、台化也跌逾3%，連帶影響塑膠股走弱，國喬甚至來到跌停板29.05元。台塑集團的另一檔台塑化股價也跌逾3%。\n",
        "\n",
        "對於台塑的示警以及塑膠股走弱是否代表傳產原物料行情熄火，還是因為之前原物料行情漲太快？萬通國際總分析師陳鋒認為，原物料行情如果要持續發熱，塑化股絕對占有一席之地，今日剛好鋼鐵、水泥、紡織等原物料族群都休息，未來走勢還是要回歸國際行情，例如布蘭特原油價格從3月中的每桶64美元，漲到現在接近70美元，而倫敦銅的交易價格更站上每噸10,000美元，都可看出景氣持續回溫，原物料行情並未走空。\n",
        "'''\n",
        "ner_results = nlp(example)\n",
        "for i in ner_results:\n",
        "  if 'ORG' in i['entity']:\n",
        "    print(i)"
      ],
      "execution_count": 31,
      "outputs": [
        {
          "output_type": "stream",
          "text": [
            "{'entity': 'B-ORG', 'score': 0.99982315, 'index': 1, 'word': '台', 'start': 1, 'end': 2}\n",
            "{'entity': 'I-ORG', 'score': 0.99995273, 'index': 2, 'word': '塑', 'start': 2, 'end': 3}\n",
            "{'entity': 'I-ORG', 'score': 0.999974, 'index': 3, 'word': '集', 'start': 3, 'end': 4}\n",
            "{'entity': 'E-ORG', 'score': 0.99998695, 'index': 4, 'word': '團', 'start': 4, 'end': 5}\n",
            "{'entity': 'B-ORG', 'score': 0.99923766, 'index': 62, 'word': '台', 'start': 62, 'end': 63}\n",
            "{'entity': 'I-ORG', 'score': 0.99842393, 'index': 63, 'word': '塑', 'start': 63, 'end': 64}\n",
            "{'entity': 'I-ORG', 'score': 0.99901026, 'index': 64, 'word': '四', 'start': 64, 'end': 65}\n",
            "{'entity': 'E-ORG', 'score': 0.9997963, 'index': 65, 'word': '寶', 'start': 65, 'end': 66}\n",
            "{'entity': 'B-ORG', 'score': 0.9036904, 'index': 67, 'word': '台', 'start': 67, 'end': 68}\n",
            "{'entity': 'E-ORG', 'score': 0.992185, 'index': 68, 'word': '塑', 'start': 68, 'end': 69}\n",
            "{'entity': 'B-ORG', 'score': 0.99443233, 'index': 90, 'word': '台', 'start': 95, 'end': 96}\n",
            "{'entity': 'I-ORG', 'score': 0.97825944, 'index': 91, 'word': '塑', 'start': 96, 'end': 97}\n",
            "{'entity': 'I-ORG', 'score': 0.993215, 'index': 92, 'word': '四', 'start': 97, 'end': 98}\n",
            "{'entity': 'E-ORG', 'score': 0.9954414, 'index': 93, 'word': '寶', 'start': 98, 'end': 99}\n",
            "{'entity': 'B-ORG', 'score': 0.9992756, 'index': 133, 'word': '台', 'start': 142, 'end': 143}\n",
            "{'entity': 'E-ORG', 'score': 0.9992377, 'index': 134, 'word': '塑', 'start': 143, 'end': 144}\n",
            "{'entity': 'B-ORG', 'score': 0.99971956, 'index': 143, 'word': '台', 'start': 152, 'end': 153}\n",
            "{'entity': 'I-ORG', 'score': 0.9999378, 'index': 144, 'word': '塑', 'start': 153, 'end': 154}\n",
            "{'entity': 'I-ORG', 'score': 0.99990755, 'index': 145, 'word': '集', 'start': 154, 'end': 155}\n",
            "{'entity': 'E-ORG', 'score': 0.9999803, 'index': 146, 'word': '團', 'start': 155, 'end': 156}\n",
            "{'entity': 'B-ORG', 'score': 0.9364164, 'index': 277, 'word': '台', 'start': 288, 'end': 289}\n",
            "{'entity': 'E-ORG', 'score': 0.9802595, 'index': 278, 'word': '塑', 'start': 289, 'end': 290}\n",
            "{'entity': 'B-ORG', 'score': 0.9918121, 'index': 293, 'word': '台', 'start': 304, 'end': 305}\n",
            "{'entity': 'I-ORG', 'score': 0.98996156, 'index': 294, 'word': '塑', 'start': 305, 'end': 306}\n",
            "{'entity': 'B-ORG', 'score': 0.96460456, 'index': 355, 'word': '南', 'start': 369, 'end': 370}\n",
            "{'entity': 'E-ORG', 'score': 0.9685231, 'index': 356, 'word': '亞', 'start': 370, 'end': 371}\n",
            "{'entity': 'B-ORG', 'score': 0.99393916, 'index': 358, 'word': '台', 'start': 372, 'end': 373}\n",
            "{'entity': 'E-ORG', 'score': 0.99520373, 'index': 359, 'word': '化', 'start': 373, 'end': 374}\n",
            "{'entity': 'B-ORG', 'score': 0.99694073, 'index': 376, 'word': '國', 'start': 390, 'end': 391}\n",
            "{'entity': 'E-ORG', 'score': 0.99934715, 'index': 377, 'word': '喬', 'start': 391, 'end': 392}\n",
            "{'entity': 'B-ORG', 'score': 0.9997663, 'index': 390, 'word': '台', 'start': 406, 'end': 407}\n",
            "{'entity': 'I-ORG', 'score': 0.99989927, 'index': 391, 'word': '塑', 'start': 407, 'end': 408}\n",
            "{'entity': 'I-ORG', 'score': 0.9998204, 'index': 392, 'word': '集', 'start': 408, 'end': 409}\n",
            "{'entity': 'E-ORG', 'score': 0.9999762, 'index': 393, 'word': '團', 'start': 409, 'end': 410}\n",
            "{'entity': 'B-ORG', 'score': 0.75483423, 'index': 398, 'word': '台', 'start': 414, 'end': 415}\n",
            "{'entity': 'I-ORG', 'score': 0.5406414, 'index': 399, 'word': '塑', 'start': 415, 'end': 416}\n",
            "{'entity': 'E-ORG', 'score': 0.6501273, 'index': 400, 'word': '化', 'start': 416, 'end': 417}\n",
            "{'entity': 'B-ORG', 'score': 0.98677474, 'index': 411, 'word': '台', 'start': 429, 'end': 430}\n",
            "{'entity': 'E-ORG', 'score': 0.9996255, 'index': 412, 'word': '塑', 'start': 430, 'end': 431}\n",
            "{'entity': 'B-ORG', 'score': 0.6930766, 'index': 452, 'word': '萬', 'start': 470, 'end': 471}\n"
          ],
          "name": "stdout"
        }
      ]
    },
    {
      "cell_type": "code",
      "metadata": {
        "id": "n8dR5l3IxI0U"
      },
      "source": [
        ""
      ],
      "execution_count": null,
      "outputs": []
    }
  ]
}