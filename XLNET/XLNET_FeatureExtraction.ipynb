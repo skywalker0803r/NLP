{
  "nbformat": 4,
  "nbformat_minor": 0,
  "metadata": {
    "colab": {
      "name": "XLNET_FeatureExtraction.ipynb",
      "provenance": [],
      "authorship_tag": "ABX9TyMbQxOgX8rHnAKjkERQmtJc",
      "include_colab_link": true
    },
    "kernelspec": {
      "name": "python3",
      "display_name": "Python 3"
    },
    "language_info": {
      "name": "python"
    }
  },
  "cells": [
    {
      "cell_type": "markdown",
      "metadata": {
        "id": "view-in-github",
        "colab_type": "text"
      },
      "source": [
        "<a href=\"https://colab.research.google.com/github/skywalker0803r/NLP/blob/main/XLNET_FeatureExtraction.ipynb\" target=\"_parent\"><img src=\"https://colab.research.google.com/assets/colab-badge.svg\" alt=\"Open In Colab\"/></a>"
      ]
    },
    {
      "cell_type": "code",
      "metadata": {
        "id": "A21C78zyEkXa"
      },
      "source": [
        "!pip install transformers > log.txt"
      ],
      "execution_count": 14,
      "outputs": []
    },
    {
      "cell_type": "markdown",
      "metadata": {
        "id": "L99xYv7AJNmn"
      },
      "source": [
        "# import "
      ]
    },
    {
      "cell_type": "code",
      "metadata": {
        "id": "IKObbA4uEsXP"
      },
      "source": [
        "import transformers\n",
        "from transformers import AutoTokenizer, AutoModel ,FeatureExtractionPipeline\n",
        "import numpy as np"
      ],
      "execution_count": 38,
      "outputs": []
    },
    {
      "cell_type": "markdown",
      "metadata": {
        "id": "TCzbZt0dFC3F"
      },
      "source": [
        "# Model"
      ]
    },
    {
      "cell_type": "code",
      "metadata": {
        "colab": {
          "base_uri": "https://localhost:8080/"
        },
        "id": "PU5hayONEzBO",
        "outputId": "595af424-e8aa-4636-e95d-593815aca84c"
      },
      "source": [
        "MODEL_NAME = 'hfl/chinese-xlnet-base'\n",
        "tokenizer = AutoTokenizer.from_pretrained(MODEL_NAME)\n",
        "model = AutoModel.from_pretrained(MODEL_NAME)\n",
        "FeatureExtractor = FeatureExtractionPipeline(model,tokenizer)"
      ],
      "execution_count": 39,
      "outputs": [
        {
          "output_type": "stream",
          "text": [
            "Some weights of the model checkpoint at hfl/chinese-xlnet-base were not used when initializing XLNetModel: ['lm_loss.weight', 'lm_loss.bias']\n",
            "- This IS expected if you are initializing XLNetModel from the checkpoint of a model trained on another task or with another architecture (e.g. initializing a BertForSequenceClassification model from a BertForPreTraining model).\n",
            "- This IS NOT expected if you are initializing XLNetModel from the checkpoint of a model that you expect to be exactly identical (initializing a BertForSequenceClassification model from a BertForSequenceClassification model).\n"
          ],
          "name": "stderr"
        }
      ]
    },
    {
      "cell_type": "markdown",
      "metadata": {
        "id": "9XUl7KizH1Pp"
      },
      "source": [
        "# FeatureExtraction"
      ]
    },
    {
      "cell_type": "code",
      "metadata": {
        "colab": {
          "base_uri": "https://localhost:8080/"
        },
        "id": "R9-5ftJdF5p3",
        "outputId": "53894acd-f57c-42ac-d977-3c0bddef702e"
      },
      "source": [
        "text1 = \"早安你好\"\n",
        "features1 = np.array(FeatureExtractor(text1))\n",
        "text2 = \"今天過的好嗎\"\n",
        "features2 = np.array(FeatureExtractor(text2))\n",
        "print(features1.shape,features2.shape)\n",
        "features1[:,0,:5],features2[:,0,:5]"
      ],
      "execution_count": 40,
      "outputs": [
        {
          "output_type": "stream",
          "text": [
            "(1, 7, 768) (1, 7, 768)\n"
          ],
          "name": "stdout"
        },
        {
          "output_type": "execute_result",
          "data": {
            "text/plain": [
              "(array([[-0.99664545, -2.73406625, -0.65780145,  2.31994438, -2.3997457 ]]),\n",
              " array([[ 4.09179497, -3.03069043,  1.86549485,  3.41408253, -3.55289745]]))"
            ]
          },
          "metadata": {
            "tags": []
          },
          "execution_count": 40
        }
      ]
    },
    {
      "cell_type": "markdown",
      "metadata": {
        "id": "7qBhJPV6H_Ti"
      },
      "source": [
        "上面代碼示範了將原始中文text(中文字串)直接輸入model,model會輸出一個features(tensor)"
      ]
    },
    {
      "cell_type": "code",
      "metadata": {
        "id": "rXKpwSLHHvN9"
      },
      "source": [
        ""
      ],
      "execution_count": null,
      "outputs": []
    }
  ]
}
